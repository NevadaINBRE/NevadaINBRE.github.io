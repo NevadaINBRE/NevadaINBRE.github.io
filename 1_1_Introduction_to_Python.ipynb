{
  "nbformat": 4,
  "nbformat_minor": 0,
  "metadata": {
    "colab": {
      "provenance": [],
      "collapsed_sections": [],
      "authorship_tag": "ABX9TyOU/Q45uygGcQYYGwNrbYL2",
      "include_colab_link": true
    },
    "kernelspec": {
      "name": "python3",
      "display_name": "Python 3"
    },
    "language_info": {
      "name": "python"
    }
  },
  "cells": [
    {
      "cell_type": "markdown",
      "metadata": {
        "id": "view-in-github",
        "colab_type": "text"
      },
      "source": [
        "<a href=\"https://colab.research.google.com/github/briannaunr/NevadaINBRE.github.io/blob/Brianna-edits/1_1_Introduction_to_Python.ipynb\" target=\"_parent\"><img src=\"https://colab.research.google.com/assets/colab-badge.svg\" alt=\"Open In Colab\"/></a>"
      ]
    },
    {
      "cell_type": "code",
      "execution_count": 6,
      "metadata": {
        "colab": {
          "base_uri": "https://localhost:8080/"
        },
        "id": "XMGwmRxntlwo",
        "outputId": "f93ec7d3-60fc-405d-9485-ca5cc2e95dcc"
      },
      "outputs": [
        {
          "output_type": "stream",
          "name": "stdout",
          "text": [
            "Looking in indexes: https://pypi.org/simple, https://us-python.pkg.dev/colab-wheels/public/simple/\n",
            "Requirement already satisfied: ColabTurtlePlus==1.5 in /usr/local/lib/python3.7/dist-packages (1.5)\n"
          ]
        }
      ],
      "source": [
        "!pip install ColabTurtlePlus==1.5\n",
        "from ColabTurtlePlus.Turtle import *\n"
      ]
    },
    {
      "cell_type": "code",
      "source": [
        "global OFF_LIMITS_SQUARES \n",
        "OFF_LIMITS_SQUARES = []\n",
        "\n",
        "def InitializeWorld(world_height, world_width):\n",
        "  unit = 50\n",
        "  initializeTurtle(window=(world_height*unit, world_width*unit),mode='world',speed=0)\n",
        "  setworldcoordinates(0,0, world_height, world_width)\n",
        "  color('grey', 'lightblue')\n",
        "  turtlesize(1)\n",
        "  shape('square')\n",
        "  penup()\n",
        "  for x in range(world_height):\n",
        "    for y in range(world_width):\n",
        "      goto(x, y)\n",
        "      pendown()\n",
        "      begin_fill()\n",
        "      for _ in range(4):\n",
        "        forward(1)\n",
        "        left(90)\n",
        "      end_fill()\n",
        "      penup()\n",
        "  face(90)\n",
        "  done()\n",
        "\n",
        "def TurtleAtCorner():\n",
        "  shape('ring')\n",
        "  color('red')\n",
        "  turtlesize(1)\n",
        "  penup()\n",
        "  goto(.5, .5)\n",
        "  face(0)\n",
        "  done()\n",
        "\n",
        "def stairs(n_stairs=8,):\n",
        "  OFF_LIMITS_SQUARES = []\n",
        "  InitializeWorld(n_stairs,n_stairs)\n",
        "  goto(0,0)\n",
        "  pendown()\n",
        "  begin_fill()\n",
        "  color('black', 'darkgreen')\n",
        "  face(0)\n",
        "  for i in range(n_stairs):\n",
        "    forward(1)\n",
        "    left(90)\n",
        "    forward(1)\n",
        "    right(90)\n",
        "    OFF_LIMITS_SQUARES = OFF_LIMITS_SQUARES + [((getx()+.5,gety()+.5))]\n",
        "  right(90)\n",
        "  forward(n_stairs*unit)\n",
        "  right(90)\n",
        "  forward(n_stairs*unit)\n",
        "  end_fill()\n",
        "  penup()\n",
        "  TurtleAtCorner()\n"
      ],
      "metadata": {
        "id": "NuoAq-SOI3jz"
      },
      "execution_count": 165,
      "outputs": []
    },
    {
      "cell_type": "code",
      "source": [
        "Stairs)\n"
      ],
      "metadata": {
        "colab": {
          "base_uri": "https://localhost:8080/",
          "height": 421
        },
        "id": "RaJDbmhxTD3_",
        "outputId": "4ba46152-9751-4e48-b60d-e1d104ec7613"
      },
      "execution_count": 160,
      "outputs": [
        {
          "output_type": "display_data",
          "data": {
            "text/plain": [
              "<IPython.core.display.HTML object>"
            ],
            "text/html": [
              "\n",
              "      <svg width=\"400\" height=\"400\">  \n",
              "        <rect width=\"100%\" height=\"100%\" style=\"fill:white;stroke:;stroke-width:1\"/>\n",
              "        \n",
              "        <path fill-rule=\"evenodd\" fill-opacity=\"1\" d=\"M 0.0 400.0  L 50.0 400.0  L 50.0 350.0  L 0.0 350.0  L 0.0 400.0 \" stroke-linecap=\"round\" style=\"stroke:grey;stroke-width:1\" fill=\"lightblue\" /><path fill-rule=\"evenodd\" fill-opacity=\"1\" d=\"M 0.0 350.0  L 50.0 350.0  L 50.0 300.0  L 0.0 300.0  L 0.0 350.0 \" stroke-linecap=\"round\" style=\"stroke:grey;stroke-width:1\" fill=\"lightblue\" /><path fill-rule=\"evenodd\" fill-opacity=\"1\" d=\"M 0.0 300.0  L 50.0 300.0  L 50.0 250.0  L 0.0 250.0  L 0.0 300.0 \" stroke-linecap=\"round\" style=\"stroke:grey;stroke-width:1\" fill=\"lightblue\" /><path fill-rule=\"evenodd\" fill-opacity=\"1\" d=\"M 0.0 250.0  L 50.0 250.0  L 50.0 200.0  L 0.0 200.0  L 0.0 250.0 \" stroke-linecap=\"round\" style=\"stroke:grey;stroke-width:1\" fill=\"lightblue\" /><path fill-rule=\"evenodd\" fill-opacity=\"1\" d=\"M 0.0 200.0  L 50.0 200.0  L 50.0 150.0  L 0.0 150.0  L 0.0 200.0 \" stroke-linecap=\"round\" style=\"stroke:grey;stroke-width:1\" fill=\"lightblue\" /><path fill-rule=\"evenodd\" fill-opacity=\"1\" d=\"M 0.0 150.0  L 50.0 150.0  L 50.0 100.0  L 0.0 100.0  L 0.0 150.0 \" stroke-linecap=\"round\" style=\"stroke:grey;stroke-width:1\" fill=\"lightblue\" /><path fill-rule=\"evenodd\" fill-opacity=\"1\" d=\"M 0.0 100.0  L 50.0 100.0  L 50.0 50.0  L 0.0 50.0  L 0.0 100.0 \" stroke-linecap=\"round\" style=\"stroke:grey;stroke-width:1\" fill=\"lightblue\" /><path fill-rule=\"evenodd\" fill-opacity=\"1\" d=\"M 0.0 50.0  L 50.0 50.0  L 50.0 0.0  L 0.0 0.0  L 0.0 50.0 \" stroke-linecap=\"round\" style=\"stroke:grey;stroke-width:1\" fill=\"lightblue\" /><path fill-rule=\"evenodd\" fill-opacity=\"1\" d=\"M 50.0 400.0  L 100.0 400.0  L 100.0 350.0  L 50.0 350.0  L 50.0 400.0 \" stroke-linecap=\"round\" style=\"stroke:grey;stroke-width:1\" fill=\"lightblue\" /><path fill-rule=\"evenodd\" fill-opacity=\"1\" d=\"M 50.0 350.0  L 100.0 350.0  L 100.0 300.0  L 50.0 300.0  L 50.0 350.0 \" stroke-linecap=\"round\" style=\"stroke:grey;stroke-width:1\" fill=\"lightblue\" /><path fill-rule=\"evenodd\" fill-opacity=\"1\" d=\"M 50.0 300.0  L 100.0 300.0  L 100.0 250.0  L 50.0 250.0  L 50.0 300.0 \" stroke-linecap=\"round\" style=\"stroke:grey;stroke-width:1\" fill=\"lightblue\" /><path fill-rule=\"evenodd\" fill-opacity=\"1\" d=\"M 50.0 250.0  L 100.0 250.0  L 100.0 200.0  L 50.0 200.0  L 50.0 250.0 \" stroke-linecap=\"round\" style=\"stroke:grey;stroke-width:1\" fill=\"lightblue\" /><path fill-rule=\"evenodd\" fill-opacity=\"1\" d=\"M 50.0 200.0  L 100.0 200.0  L 100.0 150.0  L 50.0 150.0  L 50.0 200.0 \" stroke-linecap=\"round\" style=\"stroke:grey;stroke-width:1\" fill=\"lightblue\" /><path fill-rule=\"evenodd\" fill-opacity=\"1\" d=\"M 50.0 150.0  L 100.0 150.0  L 100.0 100.0  L 50.0 100.0  L 50.0 150.0 \" stroke-linecap=\"round\" style=\"stroke:grey;stroke-width:1\" fill=\"lightblue\" /><path fill-rule=\"evenodd\" fill-opacity=\"1\" d=\"M 50.0 100.0  L 100.0 100.0  L 100.0 50.0  L 50.0 50.0  L 50.0 100.0 \" stroke-linecap=\"round\" style=\"stroke:grey;stroke-width:1\" fill=\"lightblue\" /><path fill-rule=\"evenodd\" fill-opacity=\"1\" d=\"M 50.0 50.0  L 100.0 50.0  L 100.0 0.0  L 50.0 0.0  L 50.0 50.0 \" stroke-linecap=\"round\" style=\"stroke:grey;stroke-width:1\" fill=\"lightblue\" /><path fill-rule=\"evenodd\" fill-opacity=\"1\" d=\"M 100.0 400.0  L 150.0 400.0  L 150.0 350.0  L 100.0 350.0  L 100.0 400.0 \" stroke-linecap=\"round\" style=\"stroke:grey;stroke-width:1\" fill=\"lightblue\" /><path fill-rule=\"evenodd\" fill-opacity=\"1\" d=\"M 100.0 350.0  L 150.0 350.0  L 150.0 300.0  L 100.0 300.0  L 100.0 350.0 \" stroke-linecap=\"round\" style=\"stroke:grey;stroke-width:1\" fill=\"lightblue\" /><path fill-rule=\"evenodd\" fill-opacity=\"1\" d=\"M 100.0 300.0  L 150.0 300.0  L 150.0 250.0  L 100.0 250.0  L 100.0 300.0 \" stroke-linecap=\"round\" style=\"stroke:grey;stroke-width:1\" fill=\"lightblue\" /><path fill-rule=\"evenodd\" fill-opacity=\"1\" d=\"M 100.0 250.0  L 150.0 250.0  L 150.0 200.0  L 100.0 200.0  L 100.0 250.0 \" stroke-linecap=\"round\" style=\"stroke:grey;stroke-width:1\" fill=\"lightblue\" /><path fill-rule=\"evenodd\" fill-opacity=\"1\" d=\"M 100.0 200.0  L 150.0 200.0  L 150.0 150.0  L 100.0 150.0  L 100.0 200.0 \" stroke-linecap=\"round\" style=\"stroke:grey;stroke-width:1\" fill=\"lightblue\" /><path fill-rule=\"evenodd\" fill-opacity=\"1\" d=\"M 100.0 150.0  L 150.0 150.0  L 150.0 100.0  L 100.0 100.0  L 100.0 150.0 \" stroke-linecap=\"round\" style=\"stroke:grey;stroke-width:1\" fill=\"lightblue\" /><path fill-rule=\"evenodd\" fill-opacity=\"1\" d=\"M 100.0 100.0  L 150.0 100.0  L 150.0 50.0  L 100.0 50.0  L 100.0 100.0 \" stroke-linecap=\"round\" style=\"stroke:grey;stroke-width:1\" fill=\"lightblue\" /><path fill-rule=\"evenodd\" fill-opacity=\"1\" d=\"M 100.0 50.0  L 150.0 50.0  L 150.0 0.0  L 100.0 0.0  L 100.0 50.0 \" stroke-linecap=\"round\" style=\"stroke:grey;stroke-width:1\" fill=\"lightblue\" /><path fill-rule=\"evenodd\" fill-opacity=\"1\" d=\"M 150.0 400.0  L 200.0 400.0  L 200.0 350.0  L 150.0 350.0  L 150.0 400.0 \" stroke-linecap=\"round\" style=\"stroke:grey;stroke-width:1\" fill=\"lightblue\" /><path fill-rule=\"evenodd\" fill-opacity=\"1\" d=\"M 150.0 350.0  L 200.0 350.0  L 200.0 300.0  L 150.0 300.0  L 150.0 350.0 \" stroke-linecap=\"round\" style=\"stroke:grey;stroke-width:1\" fill=\"lightblue\" /><path fill-rule=\"evenodd\" fill-opacity=\"1\" d=\"M 150.0 300.0  L 200.0 300.0  L 200.0 250.0  L 150.0 250.0  L 150.0 300.0 \" stroke-linecap=\"round\" style=\"stroke:grey;stroke-width:1\" fill=\"lightblue\" /><path fill-rule=\"evenodd\" fill-opacity=\"1\" d=\"M 150.0 250.0  L 200.0 250.0  L 200.0 200.0  L 150.0 200.0  L 150.0 250.0 \" stroke-linecap=\"round\" style=\"stroke:grey;stroke-width:1\" fill=\"lightblue\" /><path fill-rule=\"evenodd\" fill-opacity=\"1\" d=\"M 150.0 200.0  L 200.0 200.0  L 200.0 150.0  L 150.0 150.0  L 150.0 200.0 \" stroke-linecap=\"round\" style=\"stroke:grey;stroke-width:1\" fill=\"lightblue\" /><path fill-rule=\"evenodd\" fill-opacity=\"1\" d=\"M 150.0 150.0  L 200.0 150.0  L 200.0 100.0  L 150.0 100.0  L 150.0 150.0 \" stroke-linecap=\"round\" style=\"stroke:grey;stroke-width:1\" fill=\"lightblue\" /><path fill-rule=\"evenodd\" fill-opacity=\"1\" d=\"M 150.0 100.0  L 200.0 100.0  L 200.0 50.0  L 150.0 50.0  L 150.0 100.0 \" stroke-linecap=\"round\" style=\"stroke:grey;stroke-width:1\" fill=\"lightblue\" /><path fill-rule=\"evenodd\" fill-opacity=\"1\" d=\"M 150.0 50.0  L 200.0 50.0  L 200.0 0.0  L 150.0 0.0  L 150.0 50.0 \" stroke-linecap=\"round\" style=\"stroke:grey;stroke-width:1\" fill=\"lightblue\" /><path fill-rule=\"evenodd\" fill-opacity=\"1\" d=\"M 200.0 400.0  L 250.0 400.0  L 250.0 350.0  L 200.0 350.0  L 200.0 400.0 \" stroke-linecap=\"round\" style=\"stroke:grey;stroke-width:1\" fill=\"lightblue\" /><path fill-rule=\"evenodd\" fill-opacity=\"1\" d=\"M 200.0 350.0  L 250.0 350.0  L 250.0 300.0  L 200.0 300.0  L 200.0 350.0 \" stroke-linecap=\"round\" style=\"stroke:grey;stroke-width:1\" fill=\"lightblue\" /><path fill-rule=\"evenodd\" fill-opacity=\"1\" d=\"M 200.0 300.0  L 250.0 300.0  L 250.0 250.0  L 200.0 250.0  L 200.0 300.0 \" stroke-linecap=\"round\" style=\"stroke:grey;stroke-width:1\" fill=\"lightblue\" /><path fill-rule=\"evenodd\" fill-opacity=\"1\" d=\"M 200.0 250.0  L 250.0 250.0  L 250.0 200.0  L 200.0 200.0  L 200.0 250.0 \" stroke-linecap=\"round\" style=\"stroke:grey;stroke-width:1\" fill=\"lightblue\" /><path fill-rule=\"evenodd\" fill-opacity=\"1\" d=\"M 200.0 200.0  L 250.0 200.0  L 250.0 150.0  L 200.0 150.0  L 200.0 200.0 \" stroke-linecap=\"round\" style=\"stroke:grey;stroke-width:1\" fill=\"lightblue\" /><path fill-rule=\"evenodd\" fill-opacity=\"1\" d=\"M 200.0 150.0  L 250.0 150.0  L 250.0 100.0  L 200.0 100.0  L 200.0 150.0 \" stroke-linecap=\"round\" style=\"stroke:grey;stroke-width:1\" fill=\"lightblue\" /><path fill-rule=\"evenodd\" fill-opacity=\"1\" d=\"M 200.0 100.0  L 250.0 100.0  L 250.0 50.0  L 200.0 50.0  L 200.0 100.0 \" stroke-linecap=\"round\" style=\"stroke:grey;stroke-width:1\" fill=\"lightblue\" /><path fill-rule=\"evenodd\" fill-opacity=\"1\" d=\"M 200.0 50.0  L 250.0 50.0  L 250.0 0.0  L 200.0 0.0  L 200.0 50.0 \" stroke-linecap=\"round\" style=\"stroke:grey;stroke-width:1\" fill=\"lightblue\" /><path fill-rule=\"evenodd\" fill-opacity=\"1\" d=\"M 250.0 400.0  L 300.0 400.0  L 300.0 350.0  L 250.0 350.0  L 250.0 400.0 \" stroke-linecap=\"round\" style=\"stroke:grey;stroke-width:1\" fill=\"lightblue\" /><path fill-rule=\"evenodd\" fill-opacity=\"1\" d=\"M 250.0 350.0  L 300.0 350.0  L 300.0 300.0  L 250.0 300.0  L 250.0 350.0 \" stroke-linecap=\"round\" style=\"stroke:grey;stroke-width:1\" fill=\"lightblue\" /><path fill-rule=\"evenodd\" fill-opacity=\"1\" d=\"M 250.0 300.0  L 300.0 300.0  L 300.0 250.0  L 250.0 250.0  L 250.0 300.0 \" stroke-linecap=\"round\" style=\"stroke:grey;stroke-width:1\" fill=\"lightblue\" /><path fill-rule=\"evenodd\" fill-opacity=\"1\" d=\"M 250.0 250.0  L 300.0 250.0  L 300.0 200.0  L 250.0 200.0  L 250.0 250.0 \" stroke-linecap=\"round\" style=\"stroke:grey;stroke-width:1\" fill=\"lightblue\" /><path fill-rule=\"evenodd\" fill-opacity=\"1\" d=\"M 250.0 200.0  L 300.0 200.0  L 300.0 150.0  L 250.0 150.0  L 250.0 200.0 \" stroke-linecap=\"round\" style=\"stroke:grey;stroke-width:1\" fill=\"lightblue\" /><path fill-rule=\"evenodd\" fill-opacity=\"1\" d=\"M 250.0 150.0  L 300.0 150.0  L 300.0 100.0  L 250.0 100.0  L 250.0 150.0 \" stroke-linecap=\"round\" style=\"stroke:grey;stroke-width:1\" fill=\"lightblue\" /><path fill-rule=\"evenodd\" fill-opacity=\"1\" d=\"M 250.0 100.0  L 300.0 100.0  L 300.0 50.0  L 250.0 50.0  L 250.0 100.0 \" stroke-linecap=\"round\" style=\"stroke:grey;stroke-width:1\" fill=\"lightblue\" /><path fill-rule=\"evenodd\" fill-opacity=\"1\" d=\"M 250.0 50.0  L 300.0 50.0  L 300.0 0.0  L 250.0 0.0  L 250.0 50.0 \" stroke-linecap=\"round\" style=\"stroke:grey;stroke-width:1\" fill=\"lightblue\" /><path fill-rule=\"evenodd\" fill-opacity=\"1\" d=\"M 300.0 400.0  L 350.0 400.0  L 350.0 350.0  L 300.0 350.0  L 300.0 400.0 \" stroke-linecap=\"round\" style=\"stroke:grey;stroke-width:1\" fill=\"lightblue\" /><path fill-rule=\"evenodd\" fill-opacity=\"1\" d=\"M 300.0 350.0  L 350.0 350.0  L 350.0 300.0  L 300.0 300.0  L 300.0 350.0 \" stroke-linecap=\"round\" style=\"stroke:grey;stroke-width:1\" fill=\"lightblue\" /><path fill-rule=\"evenodd\" fill-opacity=\"1\" d=\"M 300.0 300.0  L 350.0 300.0  L 350.0 250.0  L 300.0 250.0  L 300.0 300.0 \" stroke-linecap=\"round\" style=\"stroke:grey;stroke-width:1\" fill=\"lightblue\" /><path fill-rule=\"evenodd\" fill-opacity=\"1\" d=\"M 300.0 250.0  L 350.0 250.0  L 350.0 200.0  L 300.0 200.0  L 300.0 250.0 \" stroke-linecap=\"round\" style=\"stroke:grey;stroke-width:1\" fill=\"lightblue\" /><path fill-rule=\"evenodd\" fill-opacity=\"1\" d=\"M 300.0 200.0  L 350.0 200.0  L 350.0 150.0  L 300.0 150.0  L 300.0 200.0 \" stroke-linecap=\"round\" style=\"stroke:grey;stroke-width:1\" fill=\"lightblue\" /><path fill-rule=\"evenodd\" fill-opacity=\"1\" d=\"M 300.0 150.0  L 350.0 150.0  L 350.0 100.0  L 300.0 100.0  L 300.0 150.0 \" stroke-linecap=\"round\" style=\"stroke:grey;stroke-width:1\" fill=\"lightblue\" /><path fill-rule=\"evenodd\" fill-opacity=\"1\" d=\"M 300.0 100.0  L 350.0 100.0  L 350.0 50.0  L 300.0 50.0  L 300.0 100.0 \" stroke-linecap=\"round\" style=\"stroke:grey;stroke-width:1\" fill=\"lightblue\" /><path fill-rule=\"evenodd\" fill-opacity=\"1\" d=\"M 300.0 50.0  L 350.0 50.0  L 350.0 0.0  L 300.0 0.0  L 300.0 50.0 \" stroke-linecap=\"round\" style=\"stroke:grey;stroke-width:1\" fill=\"lightblue\" /><path fill-rule=\"evenodd\" fill-opacity=\"1\" d=\"M 350.0 400.0  L 400.0 400.0  L 400.0 350.0  L 350.0 350.0  L 350.0 400.0 \" stroke-linecap=\"round\" style=\"stroke:grey;stroke-width:1\" fill=\"lightblue\" /><path fill-rule=\"evenodd\" fill-opacity=\"1\" d=\"M 350.0 350.0  L 400.0 350.0  L 400.0 300.0  L 350.0 300.0  L 350.0 350.0 \" stroke-linecap=\"round\" style=\"stroke:grey;stroke-width:1\" fill=\"lightblue\" /><path fill-rule=\"evenodd\" fill-opacity=\"1\" d=\"M 350.0 300.0  L 400.0 300.0  L 400.0 250.0  L 350.0 250.0  L 350.0 300.0 \" stroke-linecap=\"round\" style=\"stroke:grey;stroke-width:1\" fill=\"lightblue\" /><path fill-rule=\"evenodd\" fill-opacity=\"1\" d=\"M 350.0 250.0  L 400.0 250.0  L 400.0 200.0  L 350.0 200.0  L 350.0 250.0 \" stroke-linecap=\"round\" style=\"stroke:grey;stroke-width:1\" fill=\"lightblue\" /><path fill-rule=\"evenodd\" fill-opacity=\"1\" d=\"M 350.0 200.0  L 400.0 200.0  L 400.0 150.0  L 350.0 150.0  L 350.0 200.0 \" stroke-linecap=\"round\" style=\"stroke:grey;stroke-width:1\" fill=\"lightblue\" /><path fill-rule=\"evenodd\" fill-opacity=\"1\" d=\"M 350.0 150.0  L 400.0 150.0  L 400.0 100.0  L 350.0 100.0  L 350.0 150.0 \" stroke-linecap=\"round\" style=\"stroke:grey;stroke-width:1\" fill=\"lightblue\" /><path fill-rule=\"evenodd\" fill-opacity=\"1\" d=\"M 350.0 100.0  L 400.0 100.0  L 400.0 50.0  L 350.0 50.0  L 350.0 100.0 \" stroke-linecap=\"round\" style=\"stroke:grey;stroke-width:1\" fill=\"lightblue\" /><path fill-rule=\"evenodd\" fill-opacity=\"1\" d=\"M 350.0 50.0  L 400.0 50.0  L 400.0 0.0  L 350.0 0.0  L 350.0 50.0 \" stroke-linecap=\"round\" style=\"stroke:grey;stroke-width:1\" fill=\"lightblue\" /><path fill-rule=\"evenodd\" fill-opacity=\"1\" d=\"M 0.0 400.0  L 50.0 400.0  L 50.0 350.0  L 100.0 350.0  L 100.0 300.0  L 150.0 300.0  L 150.0 250.0  L 200.0 250.0  L 200.0 200.0  L 250.0 200.0  L 250.0 150.0  L 300.0 150.0  L 300.0 100.0  L 350.0 100.0  L 350.0 50.0  L 400.0 50.0  L 400.0 0.0  L 400.0 20000.0  L -19600.0 20000.0 \" stroke-linecap=\"round\" style=\"stroke:black;stroke-width:1\" fill=\"darkgreen\" />\n",
              "        \n",
              "        \n",
              "        <g id=\"ring\" visibility=\"visible\" transform=\"rotate(270,25.0,375.0) translate(25.0, 389.0)\">\n",
              "<ellipse stroke=\"red\" transform=\"skewX(0)\" stroke-width=\"3\" fill=\"transparent\" rx=\"10\" ry = \"10\" cx=\"0\" cy=\"-14\" />\n",
              "<polygon points=\"0,5 5,0 -5,0\" transform=\"skewX(0) scale(1,1)\" style=\"fill:red;stroke:red;stroke-width:1\" />\n",
              "</g>\n",
              "      </svg>\n",
              "    "
            ]
          },
          "metadata": {}
        }
      ]
    },
    {
      "cell_type": "markdown",
      "source": [],
      "metadata": {
        "id": "JkMH3wFK3dLS"
      }
    },
    {
      "cell_type": "code",
      "source": [
        "OFF_LIMITS_SQUARES"
      ],
      "metadata": {
        "colab": {
          "base_uri": "https://localhost:8080/",
          "height": 166
        },
        "id": "7LWp_gWHnDDR",
        "outputId": "110a1067-6be1-4b74-933a-2c63ae301af1"
      },
      "execution_count": 163,
      "outputs": [
        {
          "output_type": "error",
          "ename": "NameError",
          "evalue": "ignored",
          "traceback": [
            "\u001b[0;31m---------------------------------------------------------------------------\u001b[0m",
            "\u001b[0;31mNameError\u001b[0m                                 Traceback (most recent call last)",
            "\u001b[0;32m<ipython-input-163-2726f1cf51cd>\u001b[0m in \u001b[0;36m<module>\u001b[0;34m\u001b[0m\n\u001b[0;32m----> 1\u001b[0;31m \u001b[0mOFF_LIMITS_SQUARES\u001b[0m\u001b[0;34m\u001b[0m\u001b[0;34m\u001b[0m\u001b[0m\n\u001b[0m",
            "\u001b[0;31mNameError\u001b[0m: name 'OFF_LIMITS_SQUARES' is not defined"
          ]
        }
      ]
    },
    {
      "cell_type": "code",
      "source": [
        "initializeTurtle(window=(world_height*unit, world_width*unit),mode='world',speed=0)\n",
        "color('grey', 'lightblue')\n",
        "shape('square')\n",
        "print(turtlesize())\n",
        "forward(50)\n",
        "stamp()\n",
        "forward(50)\n",
        "done()"
      ],
      "metadata": {
        "colab": {
          "base_uri": "https://localhost:8080/",
          "height": 539
        },
        "id": "U-weIQwTLrgU",
        "outputId": "bbcd01a0-2c9b-4cdf-9d72-521badf244bd"
      },
      "execution_count": 82,
      "outputs": [
        {
          "output_type": "display_data",
          "data": {
            "text/plain": [
              "<IPython.core.display.HTML object>"
            ],
            "text/html": [
              "\n",
              "      <svg width=\"500\" height=\"500\">  \n",
              "        <rect width=\"100%\" height=\"100%\" style=\"fill:white;stroke:;stroke-width:1\"/>\n",
              "        <g id=\"square\" visibility=\"visible\" transform=\"rotate(-90,312.5,250.0) translate(312.5, 250.0)\">\n",
              "<polygon points=\"10,-10 10,10 -10,10 -10,-10\" transform=\"skewX(0) scale(1,1)\" style=\"stroke:grey;fill:lightblue;stroke-width:1\" />\n",
              "</g>\n",
              "        <line x1=\"250.0\" y1=\"250.0\" x2=\"312.5\" y2=\"250.0\" stroke-linecap=\"round\" style=\"stroke:grey;stroke-width:1\" /><line x1=\"312.5\" y1=\"250.0\" x2=\"375.0\" y2=\"250.0\" stroke-linecap=\"round\" style=\"stroke:grey;stroke-width:1\" />\n",
              "        \n",
              "        \n",
              "        <g id=\"square\" visibility=\"visible\" transform=\"rotate(-90,375.0,250.0) translate(375.0, 250.0)\">\n",
              "<polygon points=\"10,-10 10,10 -10,10 -10,-10\" transform=\"skewX(0) scale(1,1)\" style=\"stroke:grey;fill:lightblue;stroke-width:1\" />\n",
              "</g>\n",
              "      </svg>\n",
              "    "
            ]
          },
          "metadata": {}
        },
        {
          "output_type": "stream",
          "name": "stdout",
          "text": [
            "(1, 1, 1)\n"
          ]
        }
      ]
    },
    {
      "cell_type": "code",
      "source": [
        "initializeTurtle(window=(8*unit, 8*unit),mode='world',speed=0)\n",
        "\n",
        "color('grey', 'yellow')\n",
        "turtlesize(2.5,2.5)\n",
        "shape('square')\n",
        "for x in range(window_width/unit):\n",
        "  for y in range(window_height/unit):\n",
        "    goto(x,y)\n",
        "    stamp()\n",
        "\n",
        "\n",
        "\n",
        "speed(13)\n",
        "unit=50\n",
        "shape('ring')\n",
        "color('blue') \n",
        "penup()\n",
        "bgcolor('white')\n",
        "turtlesize(2.5,2.5)\n",
        "color('black', 'blue')\n",
        "goto(-4*unit,-4*unit)\n",
        "pendown()\n",
        "begin_fill()\n",
        "for _ in range(8):\n",
        "  forward(1*unit)\n",
        "  left(90)\n",
        "  forward(1*unit)\n",
        "  right(90)\n",
        "right(90)\n",
        "forward(8*unit)\n",
        "right(90)\n",
        "forward(8*unit)\n",
        "end_fill()\n",
        "penup()\n",
        "goto(-3.5*unit,-3.5*unit)\n",
        "face(90)\n",
        "\n",
        "shape('square')\n",
        "stamp()\n",
        "forward(unit)\n",
        "stamp()\n",
        "forward(unit)\n"
      ],
      "metadata": {
        "colab": {
          "base_uri": "https://localhost:8080/",
          "height": 421
        },
        "id": "TqzuSmBqtqbj",
        "outputId": "e66932e0-be1e-4249-e249-0a88dd864bc6"
      },
      "execution_count": 30,
      "outputs": [
        {
          "output_type": "display_data",
          "data": {
            "text/plain": [
              "<IPython.core.display.HTML object>"
            ],
            "text/html": [
              "\n",
              "      <svg width=\"400\" height=\"400\">  \n",
              "        <rect width=\"100%\" height=\"100%\" style=\"fill:white;stroke:;stroke-width:1\"/>\n",
              "        <g id=\"square\" visibility=\"visible\" transform=\"rotate(180,25.0,375.0) translate(25.0, 375.0)\">\n",
              "<polygon points=\"10,-10 10,10 -10,10 -10,-10\" transform=\"skewX(0) scale(2.5,2.5)\" style=\"stroke:black;fill:blue;stroke-width:1\" />\n",
              "</g><g id=\"square\" visibility=\"visible\" transform=\"rotate(180,25.0,325.0) translate(25.0, 325.0)\">\n",
              "<polygon points=\"10,-10 10,10 -10,10 -10,-10\" transform=\"skewX(0) scale(2.5,2.5)\" style=\"stroke:black;fill:blue;stroke-width:1\" />\n",
              "</g>\n",
              "        <path fill-rule=\"evenodd\" fill-opacity=\"1\" d=\"M 0.0 400.0  L 50.0 400.0  L 50.0 350.0  L 100.0 350.0  L 100.0 300.0  L 150.0 300.0  L 150.0 250.0  L 200.0 250.0  L 200.0 200.0  L 250.0 200.0  L 250.0 150.0  L 300.0 150.0  L 300.0 100.0  L 350.0 100.0  L 350.0 50.0  L 400.0 50.0  L 400.0 0.0  L 400.0 400.0  L 0.0 400.0 \" stroke-linecap=\"round\" style=\"stroke:black;stroke-width:1\" fill=\"blue\" />\n",
              "        \n",
              "        \n",
              "        <g id=\"square\" visibility=\"visible\" transform=\"rotate(180,24.999999999999982,275.0) translate(24.999999999999982, 275.0)\">\n",
              "<polygon points=\"10,-10 10,10 -10,10 -10,-10\" transform=\"skewX(0) scale(2.5,2.5)\" style=\"stroke:black;fill:blue;stroke-width:1\" />\n",
              "</g>\n",
              "      </svg>\n",
              "    "
            ]
          },
          "metadata": {}
        }
      ]
    },
    {
      "cell_type": "code",
      "source": [],
      "metadata": {
        "id": "RnVmjejJt5W_"
      },
      "execution_count": null,
      "outputs": []
    }
  ]
}